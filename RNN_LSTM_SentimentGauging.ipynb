{
 "cells": [
  {
   "cell_type": "markdown",
   "metadata": {
    "id": "UimumJofoPr3"
   },
   "source": [
    "# LSTM Based RNN for Sentiment Gauging from Tweets\n",
    "\n",
    "This notebook is to illustrate sentiment gauging from tweets."
   ]
  },
  {
   "cell_type": "code",
   "execution_count": 19,
   "metadata": {
    "colab": {
     "base_uri": "https://localhost:8080/"
    },
    "id": "M4jhe2wYbisO",
    "outputId": "60a349e0-be9a-4756-c42b-08ffdf8036a5"
   },
   "outputs": [
    {
     "name": "stdout",
     "output_type": "stream",
     "text": [
      "[nltk_data] Downloading package stopwords to /root/nltk_data...\n",
      "[nltk_data]   Package stopwords is already up-to-date!\n",
      "[nltk_data] Downloading package punkt to /root/nltk_data...\n",
      "[nltk_data]   Package punkt is already up-to-date!\n"
     ]
    }
   ],
   "source": [
    "# Import the required libraries\n",
    "\n",
    "%tensorflow_version 2.x\n",
    "import numpy as np\n",
    "import pandas as pd\n",
    "import matplotlib.pyplot as plt\n",
    "import os\n",
    "\n",
    "import re\n",
    "import nltk\n",
    "\n",
    "nltk.download('stopwords')\n",
    "nltk.download('punkt')\n",
    "\n",
    "from nltk.corpus import stopwords\n",
    "from nltk.tokenize import word_tokenize\n",
    "\n",
    "from sklearn.model_selection import train_test_split\n",
    "from sklearn.preprocessing import LabelEncoder\n",
    "from sklearn.preprocessing import OneHotEncoder\n",
    "\n",
    "from keras.models import Model\n",
    "from keras.layers import Dense, Input, Dropout, LSTM, Activation\n",
    "from keras.layers.embeddings import Embedding\n",
    "from keras.preprocessing import sequence\n",
    "from keras.initializers import glorot_uniform\n",
    "from keras.models import Sequential\n",
    "from keras.layers import Dense\n",
    "from keras.layers import BatchNormalization\n",
    "from keras.layers import InputLayer\n",
    "from keras.optimizers import SGD,Adam"
   ]
  },
  {
   "cell_type": "code",
   "execution_count": 3,
   "metadata": {
    "id": "TgzykZUtcatr"
   },
   "outputs": [],
   "source": [
    "# Read data from the CSV file\n",
    "\n",
    "data = pd.read_csv(\"TheSocialDilemma.csv\")"
   ]
  },
  {
   "cell_type": "code",
   "execution_count": 4,
   "metadata": {
    "colab": {
     "base_uri": "https://localhost:8080/",
     "height": 197
    },
    "id": "XP9sF3-yciuf",
    "outputId": "1eb8864c-eccc-4a18-8b77-974dd89c6bf3"
   },
   "outputs": [
    {
     "data": {
      "text/html": [
       "<div>\n",
       "<style scoped>\n",
       "    .dataframe tbody tr th:only-of-type {\n",
       "        vertical-align: middle;\n",
       "    }\n",
       "\n",
       "    .dataframe tbody tr th {\n",
       "        vertical-align: top;\n",
       "    }\n",
       "\n",
       "    .dataframe thead th {\n",
       "        text-align: right;\n",
       "    }\n",
       "</style>\n",
       "<table border=\"1\" class=\"dataframe\">\n",
       "  <thead>\n",
       "    <tr style=\"text-align: right;\">\n",
       "      <th></th>\n",
       "      <th>text</th>\n",
       "      <th>Sentiment</th>\n",
       "    </tr>\n",
       "  </thead>\n",
       "  <tbody>\n",
       "    <tr>\n",
       "      <th>0</th>\n",
       "      <td>@musicmadmarc @SocialDilemma_ @netflix @Facebo...</td>\n",
       "      <td>Neutral</td>\n",
       "    </tr>\n",
       "    <tr>\n",
       "      <th>1</th>\n",
       "      <td>@musicmadmarc @SocialDilemma_ @netflix @Facebo...</td>\n",
       "      <td>Neutral</td>\n",
       "    </tr>\n",
       "    <tr>\n",
       "      <th>2</th>\n",
       "      <td>Go watch “The Social Dilemma” on Netflix!\\n\\nI...</td>\n",
       "      <td>Positive</td>\n",
       "    </tr>\n",
       "    <tr>\n",
       "      <th>3</th>\n",
       "      <td>I watched #TheSocialDilemma last night. I’m sc...</td>\n",
       "      <td>Negative</td>\n",
       "    </tr>\n",
       "    <tr>\n",
       "      <th>4</th>\n",
       "      <td>The problem of me being on my phone most the t...</td>\n",
       "      <td>Positive</td>\n",
       "    </tr>\n",
       "  </tbody>\n",
       "</table>\n",
       "</div>"
      ],
      "text/plain": [
       "                                                text Sentiment\n",
       "0  @musicmadmarc @SocialDilemma_ @netflix @Facebo...   Neutral\n",
       "1  @musicmadmarc @SocialDilemma_ @netflix @Facebo...   Neutral\n",
       "2  Go watch “The Social Dilemma” on Netflix!\\n\\nI...  Positive\n",
       "3  I watched #TheSocialDilemma last night. I’m sc...  Negative\n",
       "4  The problem of me being on my phone most the t...  Positive"
      ]
     },
     "execution_count": 4,
     "metadata": {
      "tags": []
     },
     "output_type": "execute_result"
    }
   ],
   "source": [
    "# Examine the content of the dataframe\n",
    "\n",
    "data.head(5)"
   ]
  },
  {
   "cell_type": "markdown",
   "metadata": {
    "id": "fwIQ7PIFxcu8"
   },
   "source": [
    "**Note:**\n",
    "\n",
    "Max tweet length has also been identified as not exceeding 40 words."
   ]
  },
  {
   "cell_type": "code",
   "execution_count": 5,
   "metadata": {
    "id": "dpY9rIWIxpcv"
   },
   "outputs": [],
   "source": [
    "# Read and process glove vectors\n",
    "\n",
    "# Open the glove vectors text file in read mode\n",
    "f = open(\"glove.6B.50d.txt\",'r')\n",
    "\n",
    "# Initialize index variable to zero\n",
    "ind = 0\n",
    "\n",
    "# Initialize dictionaries to store the representations\n",
    "word_to_index = {}\n",
    "index_to_word = {}\n",
    "word_to_vec_map = {}\n",
    "\n",
    "# For loop to iterate through the lines read from the file\n",
    "for line in f:\n",
    "  # Split the line read, to read the words and vector representations\n",
    "  splitLines = line.split()\n",
    "  # Store the word in a variable\n",
    "  word = splitLines[0]\n",
    "  # Store the word vectors in a numpy array\n",
    "  wordEmbedding = np.array([float(value) for value in splitLines[1:]])\n",
    "\n",
    "  # Write to the dictionaries\n",
    "  word_to_index[word] = ind\n",
    "  index_to_word[ind] = word\n",
    "  word_to_vec_map[word] = wordEmbedding\n",
    "\n",
    "  # Increment the index\n",
    "  ind = ind + 1"
   ]
  },
  {
   "cell_type": "code",
   "execution_count": 6,
   "metadata": {
    "colab": {
     "base_uri": "https://localhost:8080/"
    },
    "id": "_juoeX4k8NMk",
    "outputId": "3e7020c6-392f-483a-dec5-145c7df04b96"
   },
   "outputs": [
    {
     "name": "stdout",
     "output_type": "stream",
     "text": [
      "Length of word to index dict is :  400000\n",
      "Length of index to word dict is :  400000\n",
      "Length of word to vector dict is:  400000\n",
      "Index of happy is:  1751\n",
      "Word at index 25 is:  from\n",
      "\n",
      "\n",
      "Word vector for happy is:  [ 0.092086  0.2571   -0.58693  -0.37029   1.0828   -0.55466  -0.78142\n",
      "  0.58696  -0.58714   0.46318  -0.11267   0.2606   -0.26928  -0.072466\n",
      "  1.247     0.30571   0.56731   0.30509  -0.050312 -0.64443  -0.54513\n",
      "  0.86429   0.20914   0.56334   1.1228   -1.0516   -0.78105   0.29656\n",
      "  0.7261   -0.61392   2.4225    1.0142   -0.17753   0.4147   -0.12966\n",
      " -0.47064   0.3807    0.16309  -0.323    -0.77899  -0.42473  -0.30826\n",
      " -0.42242   0.055069  0.38267   0.037415 -0.4302   -0.39442   0.10511\n",
      "  0.87286 ]\n"
     ]
    }
   ],
   "source": [
    "# Examine the dictionaries\n",
    "\n",
    "print(\"Length of word to index dict is : \", len(word_to_index))\n",
    "print(\"Length of index to word dict is : \", len(index_to_word))\n",
    "print(\"Length of word to vector dict is: \",len(word_to_vec_map))\n",
    "print(\"Index of happy is: \", word_to_index[\"happy\"])\n",
    "print(\"Word at index 25 is: \", index_to_word[25])\n",
    "print(\"\\n\")\n",
    "print(\"Word vector for happy is: \", word_to_vec_map[\"happy\"])"
   ]
  },
  {
   "cell_type": "code",
   "execution_count": 7,
   "metadata": {
    "id": "dsf3a-9o-PgE"
   },
   "outputs": [],
   "source": [
    "# Function to convert an array of sentences to indices after preprocessing\n",
    "\n",
    "def sentences_to_indices(X, word_to_index, max_len = 40):\n",
    "\n",
    "  # Identify No. of sentences in the input\n",
    "  m = len(X)\n",
    "  # Initialize the indices array to zeros based on the dimensions\n",
    "  X_indices = np.zeros((m, max_len))\n",
    "\n",
    "  # For loop to iterate through the elements of the array one by one\n",
    "  for i in range(m):\n",
    "\n",
    "    # 1. Remove old style retweet text\n",
    "    X[i] = re.sub(r'^RT[\\s]+', '', X[i])\n",
    "    # 2. Remove hyperlinks\n",
    "    X[i] = re.sub(r'https?:\\/\\/.*[\\r\\n]*', '', X[i])\n",
    "    # 3. Remove hashtags\n",
    "    X[i] = re.sub(r'#', '', X[i])\n",
    "    # 4. Remove numbers\n",
    "    X[i] = re.sub(r'[0-9]', '', X[i])\n",
    "    # 5. Convert to lower case\n",
    "    X[i] = str(X[i]).lower()\n",
    "    # 6. Remove punctuations\n",
    "    X[i] = re.sub(r'[^\\w\\s]', '', X[i]) \n",
    "    # 7. Remove new line\n",
    "    X[i] = re.sub(r'[\\n]', ' ', X[i])\n",
    "    # 8. Remove underscore\n",
    "    X[i] = re.sub(r'[_]', '', X[i])\n",
    "\n",
    "    # Split the sentence to words\n",
    "    sentence_words = X[i].lower().split()\n",
    "\n",
    "    # Initialize the word counter to zero\n",
    "    j = 0\n",
    "    # For loop to iterate through the words in each of the sentences\n",
    "    for w in sentence_words:\n",
    "      # Update the indices array with the index of the word at the required position\n",
    "      # If a word does not exist in the array, treat it as unknown ('unk')\n",
    "      if (w in word_to_index):\n",
    "        X_indices[i, j] = word_to_index[w]\n",
    "      else:\n",
    "        X_indices[i, j] = word_to_index['unk']\n",
    "      j = j + 1\n",
    "  \n",
    "  # Return the indices array\n",
    "  return X_indices"
   ]
  },
  {
   "cell_type": "code",
   "execution_count": 8,
   "metadata": {
    "id": "Wv4RrECW_yPz"
   },
   "outputs": [],
   "source": [
    "# Function to create the pretrained embedding layer\n",
    "\n",
    "def pretrained_embedding_layer(word_to_vec_map, word_to_index):\n",
    "\n",
    "  # Initialize the vocabulary length\n",
    "  vocab_len = len(word_to_index) + 1\n",
    "  # Extract max vector dimension\n",
    "  emb_dim = word_to_vec_map[\"happy\"].shape[0]\n",
    "  # Initialize a numpy array with zeros for the embedding layer\n",
    "  emb_matrix = np.zeros((vocab_len, emb_dim))\n",
    "\n",
    "  # Iterate through every word and get the vector representation\n",
    "  for word, idx in word_to_index.items():\n",
    "    emb_matrix[idx, :] = word_to_vec_map[word]\n",
    "\n",
    "  # Create the Keras embedding layer\n",
    "  embedding_layer = Embedding(vocab_len, emb_dim)\n",
    "  # Make the embedding layer non-trainable\n",
    "  embedding_layer.build((None,))\n",
    "\n",
    "  # Set the weights based on the vectors read previously\n",
    "  embedding_layer.set_weights([emb_matrix])\n",
    "\n",
    "  # Return the embedding layer\n",
    "  return embedding_layer"
   ]
  },
  {
   "cell_type": "code",
   "execution_count": 32,
   "metadata": {
    "colab": {
     "base_uri": "https://localhost:8080/"
    },
    "id": "KGXA7sZkA-c2",
    "outputId": "ec9de70e-c82c-42cc-9ca5-6357719eca5b"
   },
   "outputs": [
    {
     "name": "stdout",
     "output_type": "stream",
     "text": [
      "Model: \"model_1\"\n",
      "_________________________________________________________________\n",
      "Layer (type)                 Output Shape              Param #   \n",
      "=================================================================\n",
      "input_2 (InputLayer)         [(None, 40)]              0         \n",
      "_________________________________________________________________\n",
      "embedding_1 (Embedding)      (None, 40, 50)            20000050  \n",
      "_________________________________________________________________\n",
      "lstm_2 (LSTM)                (None, 40, 128)           91648     \n",
      "_________________________________________________________________\n",
      "dropout_2 (Dropout)          (None, 40, 128)           0         \n",
      "_________________________________________________________________\n",
      "lstm_3 (LSTM)                (None, 128)               131584    \n",
      "_________________________________________________________________\n",
      "dropout_3 (Dropout)          (None, 128)               0         \n",
      "_________________________________________________________________\n",
      "dense_1 (Dense)              (None, 3)                 387       \n",
      "_________________________________________________________________\n",
      "activation_1 (Activation)    (None, 3)                 0         \n",
      "=================================================================\n",
      "Total params: 20,223,669\n",
      "Trainable params: 20,223,669\n",
      "Non-trainable params: 0\n",
      "_________________________________________________________________\n"
     ]
    }
   ],
   "source": [
    "# Compose the LSTM based model\n",
    "\n",
    "# Compose the Input layer\n",
    "# Set max length based on the value determined previously\n",
    "sentence_indices = Input(shape = 40, dtype = \"int32\")\n",
    "\n",
    "# Fetch the word embeddings as the embedding layer\n",
    "embedding_layer = pretrained_embedding_layer(word_to_vec_map, word_to_index)\n",
    "\n",
    "# Set the embedding layer as part of the model\n",
    "embeddings = embedding_layer(sentence_indices)\n",
    "\n",
    "# LSTM layer 1\n",
    "X = LSTM(units = 128, return_sequences= True)(embeddings)\n",
    "# Dropout layer 1\n",
    "X = Dropout(0.5)(X)\n",
    "# LSTM layer 2\n",
    "X = LSTM(units = 128, return_sequences= False)(X)\n",
    "# Dropout layer 2\n",
    "X = Dropout(0.5)(X)\n",
    "\n",
    "# Output layer for 3 classes with softmax activation\n",
    "X = Dense(units = 3)(X)\n",
    "X = Activation('softmax')(X)\n",
    "\n",
    "# Compose model\n",
    "model = Model(inputs = sentence_indices, outputs = X)\n",
    "\n",
    "# Compile and summarize the model\n",
    "model.compile(loss='categorical_crossentropy', optimizer='adam', metrics=['accuracy'])\n",
    "model.summary()"
   ]
  },
  {
   "cell_type": "code",
   "execution_count": 11,
   "metadata": {
    "id": "tJ27o5JxDOqM"
   },
   "outputs": [],
   "source": [
    "# Compose the train and test datasets\n",
    "X_train, X_test, y_train, y_test = train_test_split(data['text'], data['Sentiment'], test_size = 0.2, random_state = 100)"
   ]
  },
  {
   "cell_type": "code",
   "execution_count": 12,
   "metadata": {
    "colab": {
     "base_uri": "https://localhost:8080/"
    },
    "id": "K5IdLC33DJsn",
    "outputId": "bcb64c62-3a95-47a0-bb82-d1790bd5b2f8"
   },
   "outputs": [
    {
     "name": "stdout",
     "output_type": "stream",
     "text": [
      "No. of train tweets:  16054\n",
      "No. of test tweets:  4014\n",
      "No. of train tweet sentiments:  16054\n",
      "No. of test tweet sentiments:  4014\n"
     ]
    }
   ],
   "source": [
    "# Examine the train and test sets for sanity\n",
    "\n",
    "print(\"No. of train tweets: \", len(X_train))\n",
    "print(\"No. of test tweets: \", len(X_test))\n",
    "print(\"No. of train tweet sentiments: \", len(y_train))\n",
    "print(\"No. of test tweet sentiments: \", len(y_test))"
   ]
  },
  {
   "cell_type": "code",
   "execution_count": 21,
   "metadata": {
    "id": "4GAqyikXEWNW"
   },
   "outputs": [],
   "source": [
    "# Convert the train tweets in to indices\n",
    "X_train_indices = sentences_to_indices(list(X_train), word_to_index, 40)\n",
    "\n",
    "# Initialize the onehot encoder frok sklearn\n",
    "enc = OneHotEncoder(sparse = False)\n",
    "enc.fit(np.array(list(y_train)).reshape(-1, 1))\n",
    "\n",
    "# Convert the train labels to one hot vectors\n",
    "y_train_oh = enc.transform(np.array(y_train).reshape(-1, 1))"
   ]
  },
  {
   "cell_type": "code",
   "execution_count": 25,
   "metadata": {
    "id": "YyrnrqJXE-cf"
   },
   "outputs": [],
   "source": [
    "# Convert the test tweets in to indices\n",
    "X_test_indices = sentences_to_indices(list(X_test), word_to_index, 40)\n",
    "\n",
    "# Convert the test labels to one hot vectors\n",
    "y_test_oh = enc.transform(np.array(y_test).reshape(-1, 1))"
   ]
  },
  {
   "cell_type": "code",
   "execution_count": 33,
   "metadata": {
    "colab": {
     "base_uri": "https://localhost:8080/"
    },
    "id": "hcgnPa3PMT4H",
    "outputId": "95d029a3-8ae7-4a3c-fba4-7ecd362ab1ae"
   },
   "outputs": [
    {
     "name": "stdout",
     "output_type": "stream",
     "text": [
      "Epoch 1/50\n",
      "251/251 [==============================] - 46s 176ms/step - loss: 0.9883 - accuracy: 0.5119\n",
      "Epoch 2/50\n",
      "251/251 [==============================] - 44s 175ms/step - loss: 0.6592 - accuracy: 0.7385\n",
      "Epoch 3/50\n",
      "251/251 [==============================] - 44s 175ms/step - loss: 0.4652 - accuracy: 0.8365\n",
      "Epoch 4/50\n",
      "251/251 [==============================] - 44s 176ms/step - loss: 0.3138 - accuracy: 0.8941\n",
      "Epoch 5/50\n",
      "251/251 [==============================] - 44s 175ms/step - loss: 0.2420 - accuracy: 0.9303\n",
      "Epoch 6/50\n",
      "251/251 [==============================] - 44s 175ms/step - loss: 0.1896 - accuracy: 0.9470\n",
      "Epoch 7/50\n",
      "251/251 [==============================] - 44s 175ms/step - loss: 0.1457 - accuracy: 0.9586\n",
      "Epoch 8/50\n",
      "251/251 [==============================] - 44s 175ms/step - loss: 0.1332 - accuracy: 0.9645\n",
      "Epoch 9/50\n",
      "251/251 [==============================] - 44s 175ms/step - loss: 0.1147 - accuracy: 0.9698\n",
      "Epoch 10/50\n",
      "251/251 [==============================] - 44s 175ms/step - loss: 0.0942 - accuracy: 0.9758\n",
      "Epoch 11/50\n",
      "251/251 [==============================] - 44s 176ms/step - loss: 0.0952 - accuracy: 0.9750\n",
      "Epoch 12/50\n",
      "251/251 [==============================] - 44s 175ms/step - loss: 0.0818 - accuracy: 0.9814\n",
      "Epoch 13/50\n",
      "251/251 [==============================] - 44s 176ms/step - loss: 0.0806 - accuracy: 0.9802\n",
      "Epoch 14/50\n",
      "251/251 [==============================] - 44s 175ms/step - loss: 0.0632 - accuracy: 0.9859\n",
      "Epoch 15/50\n",
      "251/251 [==============================] - 44s 175ms/step - loss: 0.0710 - accuracy: 0.9816\n",
      "Epoch 16/50\n",
      "251/251 [==============================] - 44s 175ms/step - loss: 0.0532 - accuracy: 0.9876\n",
      "Epoch 17/50\n",
      "251/251 [==============================] - 44s 175ms/step - loss: 0.0529 - accuracy: 0.9858\n",
      "Epoch 18/50\n",
      "251/251 [==============================] - 44s 175ms/step - loss: 0.0438 - accuracy: 0.9901\n",
      "Epoch 19/50\n",
      "251/251 [==============================] - 44s 176ms/step - loss: 0.0406 - accuracy: 0.9909\n",
      "Epoch 20/50\n",
      "251/251 [==============================] - 44s 176ms/step - loss: 0.0432 - accuracy: 0.9902\n",
      "Epoch 21/50\n",
      "251/251 [==============================] - 44s 176ms/step - loss: 0.0361 - accuracy: 0.9928\n",
      "Epoch 22/50\n",
      "251/251 [==============================] - 44s 175ms/step - loss: 0.0451 - accuracy: 0.9900\n",
      "Epoch 23/50\n",
      "251/251 [==============================] - 44s 175ms/step - loss: 0.0299 - accuracy: 0.9928\n",
      "Epoch 24/50\n",
      "251/251 [==============================] - 44s 176ms/step - loss: 0.0271 - accuracy: 0.9947\n",
      "Epoch 25/50\n",
      "251/251 [==============================] - 44s 176ms/step - loss: 0.0327 - accuracy: 0.9928\n",
      "Epoch 26/50\n",
      "251/251 [==============================] - 44s 176ms/step - loss: 0.0353 - accuracy: 0.9935\n",
      "Epoch 27/50\n",
      "251/251 [==============================] - 44s 175ms/step - loss: 0.0280 - accuracy: 0.9946\n",
      "Epoch 28/50\n",
      "251/251 [==============================] - 44s 175ms/step - loss: 0.0274 - accuracy: 0.9931\n",
      "Epoch 29/50\n",
      "251/251 [==============================] - 44s 175ms/step - loss: 0.0211 - accuracy: 0.9959\n",
      "Epoch 30/50\n",
      "251/251 [==============================] - 44s 175ms/step - loss: 0.0302 - accuracy: 0.9941\n",
      "Epoch 31/50\n",
      "251/251 [==============================] - 44s 176ms/step - loss: 0.0288 - accuracy: 0.9944\n",
      "Epoch 32/50\n",
      "251/251 [==============================] - 44s 175ms/step - loss: 0.0217 - accuracy: 0.9958\n",
      "Epoch 33/50\n",
      "251/251 [==============================] - 44s 176ms/step - loss: 0.0140 - accuracy: 0.9976\n",
      "Epoch 34/50\n",
      "251/251 [==============================] - 44s 176ms/step - loss: 0.0158 - accuracy: 0.9972\n",
      "Epoch 35/50\n",
      "251/251 [==============================] - 44s 176ms/step - loss: 0.0177 - accuracy: 0.9966\n",
      "Epoch 36/50\n",
      "251/251 [==============================] - 44s 175ms/step - loss: 0.0192 - accuracy: 0.9967\n",
      "Epoch 37/50\n",
      "251/251 [==============================] - 44s 175ms/step - loss: 0.0189 - accuracy: 0.9958\n",
      "Epoch 38/50\n",
      "251/251 [==============================] - 44s 175ms/step - loss: 0.0133 - accuracy: 0.9968\n",
      "Epoch 39/50\n",
      "251/251 [==============================] - 44s 176ms/step - loss: 0.0211 - accuracy: 0.9956\n",
      "Epoch 40/50\n",
      "251/251 [==============================] - 44s 176ms/step - loss: 0.0151 - accuracy: 0.9971\n",
      "Epoch 41/50\n",
      "251/251 [==============================] - 44s 175ms/step - loss: 0.0129 - accuracy: 0.9975\n",
      "Epoch 42/50\n",
      "251/251 [==============================] - 44s 175ms/step - loss: 0.0084 - accuracy: 0.9981\n",
      "Epoch 43/50\n",
      "251/251 [==============================] - 44s 174ms/step - loss: 0.0072 - accuracy: 0.9987\n",
      "Epoch 44/50\n",
      "251/251 [==============================] - 44s 175ms/step - loss: 0.0088 - accuracy: 0.9974\n",
      "Epoch 45/50\n",
      "251/251 [==============================] - 44s 174ms/step - loss: 0.0081 - accuracy: 0.9975\n",
      "Epoch 46/50\n",
      "251/251 [==============================] - 44s 175ms/step - loss: 0.0115 - accuracy: 0.9968\n",
      "Epoch 47/50\n",
      "251/251 [==============================] - 44s 176ms/step - loss: 0.0099 - accuracy: 0.9967\n",
      "Epoch 48/50\n",
      "251/251 [==============================] - 44s 176ms/step - loss: 0.0117 - accuracy: 0.9961\n",
      "Epoch 49/50\n",
      "251/251 [==============================] - 44s 176ms/step - loss: 0.0093 - accuracy: 0.9974\n",
      "Epoch 50/50\n",
      "251/251 [==============================] - 45s 178ms/step - loss: 0.0047 - accuracy: 0.9992\n"
     ]
    }
   ],
   "source": [
    "# Fit the model\n",
    "\n",
    "history = model.fit(X_train_indices, y_train_oh, epochs = 50, batch_size = 64, shuffle = True)"
   ]
  },
  {
   "cell_type": "code",
   "execution_count": 34,
   "metadata": {
    "colab": {
     "base_uri": "https://localhost:8080/"
    },
    "id": "pLCARsL3MYVR",
    "outputId": "588ace0b-0384-49bf-9819-1771b7362cc8"
   },
   "outputs": [
    {
     "name": "stdout",
     "output_type": "stream",
     "text": [
      "126/126 [==============================] - 1s 5ms/step - loss: 0.5710 - accuracy: 0.9205\n",
      "\n",
      "Test accuracy =  92.05281734466553  %\n"
     ]
    }
   ],
   "source": [
    "# Evaluate model on test data set\n",
    "\n",
    "loss, acc = model.evaluate(X_test_indices, y_test_oh)\n",
    "print()\n",
    "\n",
    "print(\"Test accuracy = \", (acc * 100), \" %\")"
   ]
  },
  {
   "cell_type": "code",
   "execution_count": 35,
   "metadata": {
    "id": "XfMF_er9nOXi"
   },
   "outputs": [],
   "source": [
    "# Save the model as a h5 file\n",
    "\n",
    "model.save(\"rnn_LSTM_sentiment_model.h5\")"
   ]
  },
  {
   "cell_type": "code",
   "execution_count": 38,
   "metadata": {
    "colab": {
     "base_uri": "https://localhost:8080/",
     "height": 350
    },
    "id": "4iSub4HNn1JV",
    "outputId": "c5385b87-da3c-4223-8a38-24b280595cda"
   },
   "outputs": [
    {
     "data": {
      "image/png": "[encoded data removed]",
      "text/plain": [
       "<Figure size 576x360 with 1 Axes>"
      ]
     },
     "metadata": {
      "needs_background": "light",
      "tags": []
     },
     "output_type": "display_data"
    }
   ],
   "source": [
    "# Plot the performance of model 1 on train dataset\n",
    "\n",
    "import matplotlib.pyplot as plt\n",
    "\n",
    "pd.DataFrame(history.history).plot(figsize=(8, 5))\n",
    "plt.grid(True)\n",
    "plt.gca().set_ylim(0, 1) # set the vertical range to [0-1]\n",
    "plt.xlabel(\"Epochs\")\n",
    "plt.ylabel(\"Loss, Accuracy\")\n",
    "plt.title(\"Train Loss & Accuracy with Epochs\")\n",
    "plt.show()"
   ]
  },
  {
   "cell_type": "markdown",
   "metadata": {
    "id": "rGHUUN_Do16W"
   },
   "source": [
    "**Conclusion**\n",
    "\n",
    "The LSTM model was trained using glovevector weights. On the test set, an accuracy of 92% was obtained.\n",
    "\n",
    "A similar approach can be used for gauging and classifying sentiments from any textual data."
   ]
  }
 ],
 "metadata": {
  "accelerator": "GPU",
  "colab": {
   "name": "Untitled0.ipynb",
   "provenance": []
  },
  "kernelspec": {
   "display_name": "Python 3",
   "language": "python",
   "name": "python3"
  },
  "language_info": {
   "codemirror_mode": {
    "name": "ipython",
    "version": 3
   },
   "file_extension": ".py",
   "mimetype": "text/x-python",
   "name": "python",
   "nbconvert_exporter": "python",
   "pygments_lexer": "ipython3",
   "version": "3.7.4"
  }
 },
 "nbformat": 4,
 "nbformat_minor": 1
}
